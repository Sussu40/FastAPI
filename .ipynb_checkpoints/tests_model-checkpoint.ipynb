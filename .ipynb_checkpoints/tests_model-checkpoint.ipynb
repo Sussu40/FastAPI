{
 "cells": [
  {
   "cell_type": "code",
   "execution_count": 1,
   "id": "616c55f6",
   "metadata": {},
   "outputs": [],
   "source": [
    "import pandas as pd\n",
    "import numpy as np\n",
    "import matplotlib.pyplot as plt\n",
    "import sklearn\n",
    "from sklearn.model_selection import train_test_split\n",
    "from sklearn.metrics import accuracy_score\n",
    "from sklearn.ensemble import RandomForestClassifier\n",
    "from sklearn.preprocessing import StandardScaler\n",
    "import datetime"
   ]
  },
  {
   "cell_type": "code",
   "execution_count": 2,
   "id": "49dfab61",
   "metadata": {},
   "outputs": [],
   "source": [
    "def serie_generator():\n",
    "    \"\"\" Génère un tirage aléatoire \"\"\"\n",
    "    # Génération d'une suite de numéros\n",
    "    boules = list(range(1, 51))\n",
    "    numbers = np.random.choice(boules, 5, replace=False)\n",
    "    stars = np.random.choice(boules[:12], 2, replace=False)\n",
    "\n",
    "    liste = np.zeros(7)\n",
    "    liste[:5] = numbers #sorted(numbers)\n",
    "    liste[5:7] = stars #sorted(stars)\n",
    "\n",
    "    return(liste)"
   ]
  },
  {
   "cell_type": "code",
   "execution_count": 4,
   "id": "e3b3b25a",
   "metadata": {},
   "outputs": [],
   "source": [
    "data = pd.read_csv(\"app/data/data.csv\",sep=\",\", index_col=0)\n",
    "\n",
    "#print(data[\"Date\"][14498])\n",
    "# transformer la date en données quantitatives : année / mois / jour\n",
    "#for i in range(len(data)) :\n",
    "    #date = data[\"Date\"][i].split(\"-\") # [année, mois, jour]\n",
    "dates = [data[\"Date\"][i].split(\"-\") for i in range(len(data))]\n",
    "dates = np.array(dates).T\n",
    "# ajout au df\n",
    "data.insert(10, \"Annee\", dates[0])\n",
    "data.insert(11, \"Mois\", dates[1])\n",
    "data.insert(12, \"Jour\", dates[2])"
   ]
  },
  {
   "cell_type": "code",
   "execution_count": 6,
   "id": "f423c13c",
   "metadata": {},
   "outputs": [],
   "source": [
    "# liste des variables explicatives / variable cible\n",
    "X = data[[\"N1\", \"N2\", \"N3\", \"N4\", \"N5\", \"E1\", \"E2\", \"Annee\", \"Mois\", \"Jour\"]]\n",
    "y = data[[\"Winning Serie\"]]\n",
    "# découpage en jeu d'entrainement / jeu de test\n",
    "X_train, X_test, y_train, y_test = train_test_split(X, y, test_size=0.2, random_state=1)\n",
    "scaler = StandardScaler()\n",
    "scaler.fit(X_train)\n",
    "X_train = scaler.transform(X_train)\n",
    "X_test = scaler.transform(X_test)"
   ]
  },
  {
   "cell_type": "code",
   "execution_count": 10,
   "id": "f47cede4",
   "metadata": {},
   "outputs": [
    {
     "name": "stdout",
     "output_type": "stream",
     "text": [
      "       Winning Serie\n",
      "58328            0.0\n",
      "95279            0.0\n",
      "91251            0.0\n",
      "62951            0.0\n",
      "93888            0.0\n",
      "...              ...\n",
      "74596            0.0\n",
      "58629            0.0\n",
      "36028            0.0\n",
      "87552            0.0\n",
      "87461            0.0\n",
      "\n",
      "[133118 rows x 1 columns]\n",
      "        Winning Serie\n",
      "0                 1.0\n",
      "1                 1.0\n",
      "2                 1.0\n",
      "3                 1.0\n",
      "4                 1.0\n",
      "...               ...\n",
      "133113            0.0\n",
      "133114            0.0\n",
      "133115            0.0\n",
      "133116            0.0\n",
      "133117            0.0\n",
      "\n",
      "[133118 rows x 1 columns]\n"
     ]
    }
   ],
   "source": [
    "print(pd.concat([y_train, y_test]))\n",
    "print(y)"
   ]
  },
  {
   "cell_type": "code",
   "execution_count": 11,
   "id": "21d6a2b7",
   "metadata": {},
   "outputs": [],
   "source": [
    "def entrainement(X_train, y_train):\n",
    "    model = RandomForestClassifier()\n",
    "    model.fit(X_train, y_train)\n",
    "    # pred = model.predict(X_test)\n",
    "    # accuracy = accuracy_score(y_test, pred)\n",
    "\n",
    "    # proba = model.predict_proba(X_test)\n",
    "    # proba[:,1].mean() # \n",
    "\n",
    "    return(model)\n",
    "\n",
    "def metriques(model, X_test, y_test):\n",
    "\n",
    "    pred = model.predict(X_test)\n",
    "    accuracy = accuracy_score(y_test, pred)\n",
    "    # ajouter loss etc. \n",
    "\n",
    "    proba = model.predict_proba(X_test)\n",
    "    proba[:,1].mean() # probabilité moyenne de gagner \n",
    "\n",
    "    return(accuracy)\n",
    "\n",
    "def predire(model, x):\n",
    "    \"\"\" Fonction qui prédit la probabilité qu'une suite x de nombre soit gagnante, \n",
    "        selon le modèle model\n",
    "\n",
    "    Args:\n",
    "        model (type??): le modèle de prédiction\n",
    "        x (list of int): la série d'entiers correspondant a une grille jouée à l'euromilion\n",
    "\n",
    "    Returns:\n",
    "        float: la probabilité que la suite jouée x soit gagnante\n",
    "\n",
    "    \"\"\"\n",
    "    # ajout de la date au tirage\n",
    "    today = datetime.date.today()\n",
    "    annee = today.strftime(\"%Y\")\n",
    "    mois = today.strftime(\"%m\")\n",
    "    jour = today.strftime(\"%d\")\n",
    "    x = np.append(x, [annee, mois, jour])\n",
    "    \n",
    "    proba = model.predict_proba(x.reshape(1, -1))\n",
    "    print(proba)\n",
    "    return(proba[0][1])\n",
    "\n",
    "def tirer_un_bon(model, prob_min):\n",
    "    \"\"\" Fonction qui trouve un gagnant probable \n",
    "\n",
    "    Args : \n",
    "        model (obj): le modèle de prédiction\n",
    "        prob_min (float): le minimum de probabilité de gagner souhaitée\n",
    "    \n",
    "    Returns:\n",
    "        list of int: le tirage de probabilité supérieur à prob_min \n",
    "            s'il a été trouvé\n",
    "            sinon le tirage le plus probable visité\n",
    "    \"\"\"\n",
    "\n",
    "    Kmax = 10**5 # Nombre d'irérations max\n",
    "    k = 0 # compteur d'itérations\n",
    "    tirage_best = [] # enregistrement du meilleur tirage visité\n",
    "    prob_best = 0 # et de sa probabilité de gagner\n",
    "\n",
    "    # arret au bout de k itérations si impossible de trouver une proba > prob_min\n",
    "    # retenir le meilleur tirage calculé dans ce cas avec sa proba\n",
    "    while k < Kmax:\n",
    "        print(\"itération \",k)\n",
    "        tirage = serie_generator()\n",
    "        prob = predire(model=model, x=tirage)\n",
    "        if prob >= prob_min:\n",
    "            return tirage, prob\n",
    "        if prob > prob_best:\n",
    "            tirage_best = tirage\n",
    "            prob_best = prob\n",
    "        k += 1\n",
    "    \n",
    "    return tirage_best, prob_best"
   ]
  },
  {
   "cell_type": "code",
   "execution_count": 12,
   "id": "90ae336b",
   "metadata": {},
   "outputs": [
    {
     "name": "stderr",
     "output_type": "stream",
     "text": [
      "/tmp/ipykernel_19499/767552777.py:3: DataConversionWarning: A column-vector y was passed when a 1d array was expected. Please change the shape of y to (n_samples,), for example using ravel().\n",
      "  model.fit(X_train, y_train)\n"
     ]
    },
    {
     "name": "stdout",
     "output_type": "stream",
     "text": [
      "accuracy : 0.9895207331730769\n",
      "[[0.83 0.17]]\n"
     ]
    },
    {
     "ename": "IndexError",
     "evalue": "index 1 is out of bounds for axis 0 with size 1",
     "output_type": "error",
     "traceback": [
      "\u001b[0;31m---------------------------------------------------------------------------\u001b[0m",
      "\u001b[0;31mIndexError\u001b[0m                                Traceback (most recent call last)",
      "\u001b[0;32m/tmp/ipykernel_19499/2817615856.py\u001b[0m in \u001b[0;36m<module>\u001b[0;34m\u001b[0m\n\u001b[1;32m      5\u001b[0m \u001b[0;31m# test\u001b[0m\u001b[0;34m\u001b[0m\u001b[0;34m\u001b[0m\u001b[0;34m\u001b[0m\u001b[0m\n\u001b[1;32m      6\u001b[0m \u001b[0mtirage\u001b[0m \u001b[0;34m=\u001b[0m \u001b[0mserie_generator\u001b[0m\u001b[0;34m(\u001b[0m\u001b[0;34m)\u001b[0m\u001b[0;34m\u001b[0m\u001b[0;34m\u001b[0m\u001b[0m\n\u001b[0;32m----> 7\u001b[0;31m \u001b[0mprob\u001b[0m \u001b[0;34m=\u001b[0m \u001b[0mpredire\u001b[0m\u001b[0;34m(\u001b[0m\u001b[0mmodel\u001b[0m\u001b[0;34m=\u001b[0m\u001b[0mmodel\u001b[0m\u001b[0;34m,\u001b[0m \u001b[0mx\u001b[0m\u001b[0;34m=\u001b[0m\u001b[0mtirage\u001b[0m\u001b[0;34m)\u001b[0m\u001b[0;34m\u001b[0m\u001b[0;34m\u001b[0m\u001b[0m\n\u001b[0m",
      "\u001b[0;32m/tmp/ipykernel_19499/767552777.py\u001b[0m in \u001b[0;36mpredire\u001b[0;34m(model, x)\u001b[0m\n\u001b[1;32m     42\u001b[0m     \u001b[0mproba\u001b[0m \u001b[0;34m=\u001b[0m \u001b[0mmodel\u001b[0m\u001b[0;34m.\u001b[0m\u001b[0mpredict_proba\u001b[0m\u001b[0;34m(\u001b[0m\u001b[0mx\u001b[0m\u001b[0;34m.\u001b[0m\u001b[0mreshape\u001b[0m\u001b[0;34m(\u001b[0m\u001b[0;36m1\u001b[0m\u001b[0;34m,\u001b[0m \u001b[0;34m-\u001b[0m\u001b[0;36m1\u001b[0m\u001b[0;34m)\u001b[0m\u001b[0;34m)\u001b[0m\u001b[0;34m\u001b[0m\u001b[0;34m\u001b[0m\u001b[0m\n\u001b[1;32m     43\u001b[0m     \u001b[0mprint\u001b[0m\u001b[0;34m(\u001b[0m\u001b[0mproba\u001b[0m\u001b[0;34m)\u001b[0m\u001b[0;34m\u001b[0m\u001b[0;34m\u001b[0m\u001b[0m\n\u001b[0;32m---> 44\u001b[0;31m     \u001b[0;32mreturn\u001b[0m\u001b[0;34m(\u001b[0m\u001b[0mproba\u001b[0m\u001b[0;34m[\u001b[0m\u001b[0;36m1\u001b[0m\u001b[0;34m]\u001b[0m\u001b[0;34m[\u001b[0m\u001b[0;36m0\u001b[0m\u001b[0;34m]\u001b[0m\u001b[0;34m)\u001b[0m\u001b[0;34m\u001b[0m\u001b[0;34m\u001b[0m\u001b[0m\n\u001b[0m\u001b[1;32m     45\u001b[0m \u001b[0;34m\u001b[0m\u001b[0m\n\u001b[1;32m     46\u001b[0m \u001b[0;32mdef\u001b[0m \u001b[0mtirer_un_bon\u001b[0m\u001b[0;34m(\u001b[0m\u001b[0mmodel\u001b[0m\u001b[0;34m,\u001b[0m \u001b[0mprob_min\u001b[0m\u001b[0;34m)\u001b[0m\u001b[0;34m:\u001b[0m\u001b[0;34m\u001b[0m\u001b[0;34m\u001b[0m\u001b[0m\n",
      "\u001b[0;31mIndexError\u001b[0m: index 1 is out of bounds for axis 0 with size 1"
     ]
    }
   ],
   "source": [
    "model = entrainement(X_train, y_train)\n",
    "acc = metriques(model, X_test, y_test)\n",
    "print(\"accuracy :\",acc)\n",
    "\n",
    "# test\n",
    "tirage = serie_generator()\n",
    "prob = predire(model=model, x=tirage)"
   ]
  },
  {
   "cell_type": "code",
   "execution_count": null,
   "id": "76018834",
   "metadata": {},
   "outputs": [],
   "source": [
    "tirer_un_bon(model, 0.9)"
   ]
  },
  {
   "cell_type": "code",
   "execution_count": null,
   "id": "d3e0977b",
   "metadata": {},
   "outputs": [],
   "source": []
  },
  {
   "cell_type": "code",
   "execution_count": null,
   "id": "c7a964f7",
   "metadata": {},
   "outputs": [],
   "source": []
  }
 ],
 "metadata": {
  "kernelspec": {
   "display_name": "Python 3 (ipykernel)",
   "language": "python",
   "name": "python3"
  },
  "language_info": {
   "codemirror_mode": {
    "name": "ipython",
    "version": 3
   },
   "file_extension": ".py",
   "mimetype": "text/x-python",
   "name": "python",
   "nbconvert_exporter": "python",
   "pygments_lexer": "ipython3",
   "version": "3.9.4"
  }
 },
 "nbformat": 4,
 "nbformat_minor": 5
}
